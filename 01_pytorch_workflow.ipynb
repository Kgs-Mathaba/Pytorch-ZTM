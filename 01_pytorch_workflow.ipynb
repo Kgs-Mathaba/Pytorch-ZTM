{
  "nbformat": 4,
  "nbformat_minor": 0,
  "metadata": {
    "colab": {
      "provenance": [],
      "authorship_tag": "ABX9TyNvc5Y5zF5DKqAgrksWnlSi",
      "include_colab_link": true
    },
    "kernelspec": {
      "name": "python3",
      "display_name": "Python 3"
    },
    "language_info": {
      "name": "python"
    }
  },
  "cells": [
    {
      "cell_type": "markdown",
      "metadata": {
        "id": "view-in-github",
        "colab_type": "text"
      },
      "source": [
        "<a href=\"https://colab.research.google.com/github/Kgs-Mathaba/Pytorch-ZTM/blob/main/01_pytorch_workflow.ipynb\" target=\"_parent\"><img src=\"https://colab.research.google.com/assets/colab-badge.svg\" alt=\"Open In Colab\"/></a>"
      ]
    },
    {
      "cell_type": "code",
      "execution_count": 1,
      "metadata": {
        "id": "CuEZuPcmYGN8"
      },
      "outputs": [],
      "source": [
        " import torch\n",
        "from torch import nn\n",
        "import matplotlib.pyplot as plt"
      ]
    },
    {
      "cell_type": "code",
      "source": [
        "w = 0.7\n",
        "b = 0.3\n",
        "\n",
        "start = 0\n",
        "end = 1\n",
        "step = 0.02\n",
        "X = torch.arange(start, end, step).unsqueeze(dim=1)\n",
        "y = w * X + b\n",
        "\n",
        "X[:10], y[:10]"
      ],
      "metadata": {
        "colab": {
          "base_uri": "https://localhost:8080/"
        },
        "id": "kmqDwTzlYlQM",
        "outputId": "584dd539-3eb4-49b3-9048-fc8a935e4c2f"
      },
      "execution_count": 2,
      "outputs": [
        {
          "output_type": "execute_result",
          "data": {
            "text/plain": [
              "(tensor([[0.0000],\n",
              "         [0.0200],\n",
              "         [0.0400],\n",
              "         [0.0600],\n",
              "         [0.0800],\n",
              "         [0.1000],\n",
              "         [0.1200],\n",
              "         [0.1400],\n",
              "         [0.1600],\n",
              "         [0.1800]]), tensor([[0.3000],\n",
              "         [0.3140],\n",
              "         [0.3280],\n",
              "         [0.3420],\n",
              "         [0.3560],\n",
              "         [0.3700],\n",
              "         [0.3840],\n",
              "         [0.3980],\n",
              "         [0.4120],\n",
              "         [0.4260]]))"
            ]
          },
          "metadata": {},
          "execution_count": 2
        }
      ]
    },
    {
      "cell_type": "code",
      "source": [
        "len(X), len(y)"
      ],
      "metadata": {
        "id": "dL3bYMQHbDDB",
        "colab": {
          "base_uri": "https://localhost:8080/"
        },
        "outputId": "c611bb4b-dab5-423c-f801-e71f09348103"
      },
      "execution_count": 3,
      "outputs": [
        {
          "output_type": "execute_result",
          "data": {
            "text/plain": [
              "(50, 50)"
            ]
          },
          "metadata": {},
          "execution_count": 3
        }
      ]
    },
    {
      "cell_type": "code",
      "source": [
        "train_split = int(0.8 * len(X))\n",
        "X_train, y_train = X[:train_split], y[:train_split]\n",
        "X_test, y_test = X[train_split:], y[train_split:]\n",
        "\n",
        "len(X_train), len(X_test), len(y_train), len(y_test)"
      ],
      "metadata": {
        "colab": {
          "base_uri": "https://localhost:8080/"
        },
        "id": "LVOSQYwDfZq6",
        "outputId": "fc0a0481-75b3-47ab-9052-3e9046307a24"
      },
      "execution_count": 4,
      "outputs": [
        {
          "output_type": "execute_result",
          "data": {
            "text/plain": [
              "(40, 10, 40, 10)"
            ]
          },
          "metadata": {},
          "execution_count": 4
        }
      ]
    },
    {
      "cell_type": "code",
      "source": [
        "def plot_predictions(train_data=X_train,\n",
        "                     train_labels =y_train,\n",
        "                     test_data=X_test,\n",
        "                     test_labels=y_test,\n",
        "                     predictions=None):\n",
        "    \"\"\"\n",
        "    Plots training data, test data and compares predictions.\n",
        "    \"\"\"\n",
        "\n",
        "    plt.figure(figsize=(10, 7))\n",
        "\n",
        "    # plot training data in blue\n",
        "    plt.scatter(train_data, train_labels, c=\"b\", s=4, label='Training data')\n",
        "\n",
        "    # Plot test data in green\n",
        "    plt.scatter(test_data, test_labels, c='g', s=4, label='Testing data')\n",
        "\n",
        "    # Are there predictions?\n",
        "    if predictions is not None:\n",
        "        #plot the predictions if the exist\n",
        "        plt.scatter(test_data, predictions, c='r', s=4, label='Predictions')\n",
        "\n",
        "    # Show legend\n",
        "    plt.legend(prop={'size': 14})\n"
      ],
      "metadata": {
        "id": "yw1YDN6MgKrm"
      },
      "execution_count": 5,
      "outputs": []
    },
    {
      "cell_type": "code",
      "source": [
        "plot_predictions();"
      ],
      "metadata": {
        "colab": {
          "base_uri": "https://localhost:8080/",
          "height": 428
        },
        "id": "TWRnA_BKmiL7",
        "outputId": "ea2cd8ee-4333-421e-eb26-533275e7e7fc"
      },
      "execution_count": 6,
      "outputs": [
        {
          "output_type": "display_data",
          "data": {
            "text/plain": [
              "<Figure size 720x504 with 1 Axes>"
            ],
            "image/png": "[encoded data removed]"
          },
          "metadata": {
            "needs_background": "light"
          }
        }
      ]
    },
    {
      "cell_type": "code",
      "source": [
        "from torch import nn\n",
        "\n",
        "# Regression model\n",
        "class LinearRegressionModel(nn.Module):\n",
        "    def __init__(self):\n",
        "        super().__init__()\n",
        "\n",
        "        # Initialize model parameters\n",
        "        self.weights = nn.Parameter(torch.randn(1,\n",
        "                                                requires_grad=True,\n",
        "                                                dtype=torch.float))\n",
        "        self.bias = nn.Parameter(torch.rand(1,\n",
        "                                            requires_grad=True,\n",
        "                                            dtype=torch.float))\n",
        "        \n",
        "    # Forward method to define the computation in the model\n",
        "    def forward(self, x: torch.Tensor) -> torch.Tensor:\n",
        "        return self.weights * x + self.bias"
      ],
      "metadata": {
        "id": "H_odk1D6mlPQ"
      },
      "execution_count": 7,
      "outputs": []
    },
    {
      "cell_type": "code",
      "source": [
        "torch.manual_seed(42)\n",
        "\n",
        "model_0 = LinearRegressionModel()\n",
        "\n",
        "model_0"
      ],
      "metadata": {
        "colab": {
          "base_uri": "https://localhost:8080/"
        },
        "id": "qy7sehSo0Hmm",
        "outputId": "9591f698-6ba2-4c49-db66-cbb7b351a714"
      },
      "execution_count": 8,
      "outputs": [
        {
          "output_type": "execute_result",
          "data": {
            "text/plain": [
              "LinearRegressionModel()"
            ]
          },
          "metadata": {},
          "execution_count": 8
        }
      ]
    },
    {
      "cell_type": "code",
      "source": [
        "list(model_0.parameters()) "
      ],
      "metadata": {
        "id": "HaRKwXK3AOmM",
        "colab": {
          "base_uri": "https://localhost:8080/"
        },
        "outputId": "771dcf8f-8bdc-4025-b10b-14cb50e22ea3"
      },
      "execution_count": 9,
      "outputs": [
        {
          "output_type": "execute_result",
          "data": {
            "text/plain": [
              "[Parameter containing:\n",
              " tensor([0.3367], requires_grad=True), Parameter containing:\n",
              " tensor([0.3904], requires_grad=True)]"
            ]
          },
          "metadata": {},
          "execution_count": 9
        }
      ]
    },
    {
      "cell_type": "code",
      "source": [
        "model_0.state_dict()"
      ],
      "metadata": {
        "colab": {
          "base_uri": "https://localhost:8080/"
        },
        "id": "SIM3rZ7952ll",
        "outputId": "76eddd41-e393-43d3-f455-b1ed792ab22e"
      },
      "execution_count": 10,
      "outputs": [
        {
          "output_type": "execute_result",
          "data": {
            "text/plain": [
              "OrderedDict([('weights', tensor([0.3367])), ('bias', tensor([0.3904]))])"
            ]
          },
          "metadata": {},
          "execution_count": 10
        }
      ]
    },
    {
      "cell_type": "code",
      "source": [
        "# Make predictions with model\n",
        "with torch.inference_mode():\n",
        "    y_preds = model_0.forward(X_test)\n",
        "\n",
        "y_preds"
      ],
      "metadata": {
        "colab": {
          "base_uri": "https://localhost:8080/"
        },
        "id": "Zcy2kilZ6RRL",
        "outputId": "ffadc2fa-e2b8-4359-a720-fe15d9f8ba95"
      },
      "execution_count": 11,
      "outputs": [
        {
          "output_type": "execute_result",
          "data": {
            "text/plain": [
              "tensor([[0.6598],\n",
              "        [0.6665],\n",
              "        [0.6733],\n",
              "        [0.6800],\n",
              "        [0.6867],\n",
              "        [0.6935],\n",
              "        [0.7002],\n",
              "        [0.7069],\n",
              "        [0.7137],\n",
              "        [0.7204]])"
            ]
          },
          "metadata": {},
          "execution_count": 11
        }
      ]
    },
    {
      "cell_type": "code",
      "source": [
        "y_test"
      ],
      "metadata": {
        "colab": {
          "base_uri": "https://localhost:8080/"
        },
        "id": "3_a9GO05YgiI",
        "outputId": "af6a6b39-04c6-480c-b7fb-a895871b9d50"
      },
      "execution_count": 12,
      "outputs": [
        {
          "output_type": "execute_result",
          "data": {
            "text/plain": [
              "tensor([[0.8600],\n",
              "        [0.8740],\n",
              "        [0.8880],\n",
              "        [0.9020],\n",
              "        [0.9160],\n",
              "        [0.9300],\n",
              "        [0.9440],\n",
              "        [0.9580],\n",
              "        [0.9720],\n",
              "        [0.9860]])"
            ]
          },
          "metadata": {},
          "execution_count": 12
        }
      ]
    },
    {
      "cell_type": "code",
      "source": [
        "plot_predictions(predictions=y_preds)"
      ],
      "metadata": {
        "colab": {
          "base_uri": "https://localhost:8080/",
          "height": 428
        },
        "id": "P_BzucwNYlZx",
        "outputId": "59470b4c-29f1-4751-a3d9-2e92af6ab46c"
      },
      "execution_count": 13,
      "outputs": [
        {
          "output_type": "display_data",
          "data": {
            "text/plain": [
              "<Figure size 720x504 with 1 Axes>"
            ],
            "image/png": "[encoded data removed]"
          },
          "metadata": {
            "needs_background": "light"
          }
        }
      ]
    },
    {
      "cell_type": "code",
      "source": [
        "list(model_0.parameters())"
      ],
      "metadata": {
        "colab": {
          "base_uri": "https://localhost:8080/"
        },
        "id": "HdOGO1l_Yqbh",
        "outputId": "94d435da-bd41-4964-a761-6854615cfdcd"
      },
      "execution_count": 14,
      "outputs": [
        {
          "output_type": "execute_result",
          "data": {
            "text/plain": [
              "[Parameter containing:\n",
              " tensor([0.3367], requires_grad=True), Parameter containing:\n",
              " tensor([0.3904], requires_grad=True)]"
            ]
          },
          "metadata": {},
          "execution_count": 14
        }
      ]
    },
    {
      "cell_type": "code",
      "source": [
        "model_0.state_dict()"
      ],
      "metadata": {
        "colab": {
          "base_uri": "https://localhost:8080/"
        },
        "id": "auIb3cB5fQNo",
        "outputId": "371f4bd4-9e3e-4192-d549-870605beda32"
      },
      "execution_count": 15,
      "outputs": [
        {
          "output_type": "execute_result",
          "data": {
            "text/plain": [
              "OrderedDict([('weights', tensor([0.3367])), ('bias', tensor([0.3904]))])"
            ]
          },
          "metadata": {},
          "execution_count": 15
        }
      ]
    },
    {
      "cell_type": "code",
      "source": [
        "def length(l:list) -> int:\n",
        "    return len(l)\n",
        "\n",
        "my_list = ['a', 'b', 'c']\n",
        "length(my_list)"
      ],
      "metadata": {
        "colab": {
          "base_uri": "https://localhost:8080/"
        },
        "id": "1EXSknnlfWRs",
        "outputId": "b35c9eff-c690-45a6-da8f-19d3a99a7b20"
      },
      "execution_count": 16,
      "outputs": [
        {
          "output_type": "execute_result",
          "data": {
            "text/plain": [
              "3"
            ]
          },
          "metadata": {},
          "execution_count": 16
        }
      ]
    },
    {
      "cell_type": "code",
      "source": [
        "loss_fn = nn.L1Loss()\n",
        "\n",
        "optimizer = torch.optim.SGD(params=model_0.parameters(),\n",
        "                            lr=0.01)"
      ],
      "metadata": {
        "id": "q0K-a1SuiJb-"
      },
      "execution_count": 17,
      "outputs": []
    },
    {
      "cell_type": "code",
      "source": [
        "epochs = 200\n",
        "\n",
        "epoch_count = []\n",
        "loss_values = []\n",
        "test_loss_values = []\n",
        "\n",
        "\n",
        "for epoch in range(epochs):\n",
        "\n",
        "    model_0.train()\n",
        "\n",
        "    # forward pass\n",
        "    y_pred = model_0(X_train)\n",
        "\n",
        "    # Calculate the loss\n",
        "    loss = loss_fn(y_pred, y_train)\n",
        "\n",
        "    # optimizer zero grad\n",
        "    optimizer.zero_grad()\n",
        "\n",
        "    # perform back propgation\n",
        "    loss.backward()\n",
        "\n",
        "    # move to optimized position\n",
        "    optimizer.step()\n",
        "\n",
        "    # evaluate model\n",
        "    model_0.eval()\n",
        "    with torch.inference_mode(): # turns off gradient tracking\n",
        "        # forward pass\n",
        "        test_pred = model_0(X_test)\n",
        "\n",
        "        # Calculate the loss\n",
        "        test_loss = loss_fn(test_pred, y_test)\n",
        "\n",
        "    if epoch % 10 == 0:\n",
        "        epoch_count.append(epoch)\n",
        "        loss_values.append(loss)\n",
        "        test_loss_values.append(test_loss)\n",
        "        print(f'Epoch: {epoch} | Test: {loss} | Test loss: {test_loss}')\n",
        "        # model state\n",
        "        print(model_0.state_dict())\n",
        "\n",
        "    "
      ],
      "metadata": {
        "id": "1pSSFeV2IQyN",
        "colab": {
          "base_uri": "https://localhost:8080/"
        },
        "outputId": "7a39ebf1-bf96-449d-c055-36911489174a"
      },
      "execution_count": 18,
      "outputs": [
        {
          "output_type": "stream",
          "name": "stdout",
          "text": [
            "Epoch: 0 | Test: 0.08169572055339813 | Test loss: 0.22662055492401123\n",
            "OrderedDict([('weights', tensor([0.3398])), ('bias', tensor([0.3939]))])\n",
            "Epoch: 10 | Test: 0.06808149069547653 | Test loss: 0.1807345449924469\n",
            "OrderedDict([('weights', tensor([0.3672])), ('bias', tensor([0.4154]))])\n",
            "Epoch: 20 | Test: 0.06258393079042435 | Test loss: 0.15627031028270721\n",
            "OrderedDict([('weights', tensor([0.3891])), ('bias', tensor([0.4204]))])\n",
            "Epoch: 30 | Test: 0.05879194289445877 | Test loss: 0.1418602615594864\n",
            "OrderedDict([('weights', tensor([0.4081])), ('bias', tensor([0.4179]))])\n",
            "Epoch: 40 | Test: 0.05530194193124771 | Test loss: 0.13084018230438232\n",
            "OrderedDict([('weights', tensor([0.4261])), ('bias', tensor([0.4129]))])\n",
            "Epoch: 50 | Test: 0.051822252571582794 | Test loss: 0.12050700187683105\n",
            "OrderedDict([('weights', tensor([0.4439])), ('bias', tensor([0.4074]))])\n",
            "Epoch: 60 | Test: 0.04838593676686287 | Test loss: 0.11223447322845459\n",
            "OrderedDict([('weights', tensor([0.4610])), ('bias', tensor([0.4004]))])\n",
            "Epoch: 70 | Test: 0.044948760420084 | Test loss: 0.10464880615472794\n",
            "OrderedDict([('weights', tensor([0.4780])), ('bias', tensor([0.3929]))])\n",
            "Epoch: 80 | Test: 0.04152031987905502 | Test loss: 0.09637625515460968\n",
            "OrderedDict([('weights', tensor([0.4951])), ('bias', tensor([0.3859]))])\n",
            "Epoch: 90 | Test: 0.03808232396841049 | Test loss: 0.08810374140739441\n",
            "OrderedDict([('weights', tensor([0.5123])), ('bias', tensor([0.3789]))])\n",
            "Epoch: 100 | Test: 0.034646838903427124 | Test loss: 0.08051808178424835\n",
            "OrderedDict([('weights', tensor([0.5293])), ('bias', tensor([0.3714]))])\n",
            "Epoch: 110 | Test: 0.031217509880661964 | Test loss: 0.0722455382347107\n",
            "OrderedDict([('weights', tensor([0.5464])), ('bias', tensor([0.3644]))])\n",
            "Epoch: 120 | Test: 0.027778705582022667 | Test loss: 0.06397300213575363\n",
            "OrderedDict([('weights', tensor([0.5636])), ('bias', tensor([0.3574]))])\n",
            "Epoch: 130 | Test: 0.024344902485609055 | Test loss: 0.05638733506202698\n",
            "OrderedDict([('weights', tensor([0.5805])), ('bias', tensor([0.3499]))])\n",
            "Epoch: 140 | Test: 0.020913895219564438 | Test loss: 0.04811479523777962\n",
            "OrderedDict([('weights', tensor([0.5977])), ('bias', tensor([0.3429]))])\n",
            "Epoch: 150 | Test: 0.017475087195634842 | Test loss: 0.03984225541353226\n",
            "OrderedDict([('weights', tensor([0.6148])), ('bias', tensor([0.3359]))])\n",
            "Epoch: 160 | Test: 0.014042967930436134 | Test loss: 0.0322565920650959\n",
            "OrderedDict([('weights', tensor([0.6318])), ('bias', tensor([0.3284]))])\n",
            "Epoch: 170 | Test: 0.010610274039208889 | Test loss: 0.02398405596613884\n",
            "OrderedDict([('weights', tensor([0.6490])), ('bias', tensor([0.3214]))])\n",
            "Epoch: 180 | Test: 0.007171472068876028 | Test loss: 0.015711510553956032\n",
            "OrderedDict([('weights', tensor([0.6661])), ('bias', tensor([0.3144]))])\n",
            "Epoch: 190 | Test: 0.003741039428859949 | Test loss: 0.008125847205519676\n",
            "OrderedDict([('weights', tensor([0.6831])), ('bias', tensor([0.3069]))])\n"
          ]
        }
      ]
    },
    {
      "cell_type": "code",
      "source": [
        "import numpy as np\n",
        "\n",
        "# Plot the loss curve\n",
        "plt.plot(epoch_count, np.array(torch.tensor(loss_values).numpy()), label='Train loss')\n",
        "plt.plot(epoch_count, test_loss_values, label='Test loss')\n",
        "plt.title('Training and test loss curves')\n",
        "plt.ylabel('Loss')\n",
        "plt.xlabel('Epochs')\n",
        "plt.legend();\n"
      ],
      "metadata": {
        "colab": {
          "base_uri": "https://localhost:8080/",
          "height": 295
        },
        "id": "472Z1CkvhzXT",
        "outputId": "f0654915-19b5-4b78-d84b-23e4a4e9062c"
      },
      "execution_count": 19,
      "outputs": [
        {
          "output_type": "display_data",
          "data": {
            "text/plain": [
              "<Figure size 432x288 with 1 Axes>"
            ],
            "image/png": "[encoded data removed]"
          },
          "metadata": {
            "needs_background": "light"
          }
        }
      ]
    },
    {
      "cell_type": "code",
      "source": [
        "with torch.inference_mode():\n",
        "    y_preds_new = model_0(X_test)"
      ],
      "metadata": {
        "id": "tmuppzmr25dB"
      },
      "execution_count": 20,
      "outputs": []
    },
    {
      "cell_type": "code",
      "source": [
        "model_0.state_dict()"
      ],
      "metadata": {
        "colab": {
          "base_uri": "https://localhost:8080/"
        },
        "id": "D6cUpP_-gkcq",
        "outputId": "a04c7c9c-3380-464f-c846-dbc2afd098fb"
      },
      "execution_count": 21,
      "outputs": [
        {
          "output_type": "execute_result",
          "data": {
            "text/plain": [
              "OrderedDict([('weights', tensor([0.6962])), ('bias', tensor([0.3064]))])"
            ]
          },
          "metadata": {},
          "execution_count": 21
        }
      ]
    },
    {
      "cell_type": "code",
      "source": [
        "\n",
        "plot_predictions(predictions=y_preds_new)"
      ],
      "metadata": {
        "colab": {
          "base_uri": "https://localhost:8080/",
          "height": 428
        },
        "id": "juZU9raZ4JUs",
        "outputId": "113aa566-6d3a-4a93-b72e-e0dfeb0844af"
      },
      "execution_count": 22,
      "outputs": [
        {
          "output_type": "display_data",
          "data": {
            "text/plain": [
              "<Figure size 720x504 with 1 Axes>"
            ],
            "image/png": "[encoded data removed]"
          },
          "metadata": {
            "needs_background": "light"
          }
        }
      ]
    },
    {
      "cell_type": "code",
      "source": [
        "w, b"
      ],
      "metadata": {
        "id": "AfT3Aw7-4rAi",
        "colab": {
          "base_uri": "https://localhost:8080/"
        },
        "outputId": "6bad4f39-aa50-47e9-d1d1-ef695f181ab7"
      },
      "execution_count": 23,
      "outputs": [
        {
          "output_type": "execute_result",
          "data": {
            "text/plain": [
              "(0.7, 0.3)"
            ]
          },
          "metadata": {},
          "execution_count": 23
        }
      ]
    },
    {
      "cell_type": "code",
      "source": [
        "#Saving model\n",
        "from pathlib import Path\n",
        "\n",
        "MODEL_PATH = Path('models')\n",
        "MODEL_PATH.mkdir(parents=True, exist_ok=True)\n",
        "\n",
        "MODEL_NAME = '01_pytorch_workflow_model_0.pth'\n",
        "MODEL_SAVE_PATH = MODEL_PATH/MODEL_NAME\n",
        "\n",
        "print(f'Saving model to: {MODEL_SAVE_PATH}')\n",
        "torch.save(obj=model_0.state_dict(),\n",
        "           f=MODEL_SAVE_PATH)"
      ],
      "metadata": {
        "colab": {
          "base_uri": "https://localhost:8080/"
        },
        "id": "ZS93BftUvebw",
        "outputId": "5b90a8b8-13b9-46f4-88cb-235d112ddcda"
      },
      "execution_count": 24,
      "outputs": [
        {
          "output_type": "stream",
          "name": "stdout",
          "text": [
            "Saving model to: models/01_pytorch_workflow_model_0.pth\n"
          ]
        }
      ]
    },
    {
      "cell_type": "code",
      "source": [
        "!ls -l models"
      ],
      "metadata": {
        "colab": {
          "base_uri": "https://localhost:8080/"
        },
        "id": "T6qa937YwkmA",
        "outputId": "279883f4-2f77-48bd-e9c5-f8623c941332"
      },
      "execution_count": 25,
      "outputs": [
        {
          "output_type": "stream",
          "name": "stdout",
          "text": [
            "total 4\n",
            "-rw-r--r-- 1 root root 1207 Feb  9 20:17 01_pytorch_workflow_model_0.pth\n"
          ]
        }
      ]
    },
    {
      "cell_type": "code",
      "source": [
        "## Loading model\n",
        "loaded_model_0 = LinearRegressionModel()\n",
        "loaded_model_0.state_dict()"
      ],
      "metadata": {
        "colab": {
          "base_uri": "https://localhost:8080/"
        },
        "id": "goi8ez8ey1UH",
        "outputId": "793c7293-7656-4eb3-a4bc-b569d5268290"
      },
      "execution_count": 26,
      "outputs": [
        {
          "output_type": "execute_result",
          "data": {
            "text/plain": [
              "OrderedDict([('weights', tensor([0.1288])), ('bias', tensor([0.6009]))])"
            ]
          },
          "metadata": {},
          "execution_count": 26
        }
      ]
    },
    {
      "cell_type": "code",
      "source": [
        "loaded_model_0.load_state_dict(torch.load(f=MODEL_SAVE_PATH))\n",
        "loaded_model_0.state_dict()"
      ],
      "metadata": {
        "colab": {
          "base_uri": "https://localhost:8080/"
        },
        "id": "p-JItkt61SOq",
        "outputId": "95916a2e-4f31-488f-a6b2-85c21aa78673"
      },
      "execution_count": 27,
      "outputs": [
        {
          "output_type": "execute_result",
          "data": {
            "text/plain": [
              "OrderedDict([('weights', tensor([0.6962])), ('bias', tensor([0.3064]))])"
            ]
          },
          "metadata": {},
          "execution_count": 27
        }
      ]
    },
    {
      "cell_type": "code",
      "source": [
        "loaded_model_0.eval()\n",
        "with torch.inference_mode():\n",
        "    loaded_model_preds = loaded_model_0(X_test)\n",
        "\n",
        "loaded_model_preds"
      ],
      "metadata": {
        "colab": {
          "base_uri": "https://localhost:8080/"
        },
        "id": "tbOS28Iq2TVY",
        "outputId": "afed82b0-f549-4015-dbed-df33126c4f81"
      },
      "execution_count": 28,
      "outputs": [
        {
          "output_type": "execute_result",
          "data": {
            "text/plain": [
              "tensor([[0.8634],\n",
              "        [0.8773],\n",
              "        [0.8913],\n",
              "        [0.9052],\n",
              "        [0.9191],\n",
              "        [0.9330],\n",
              "        [0.9469],\n",
              "        [0.9609],\n",
              "        [0.9748],\n",
              "        [0.9887]])"
            ]
          },
          "metadata": {},
          "execution_count": 28
        }
      ]
    },
    {
      "cell_type": "code",
      "source": [
        "model_0.eval()\n",
        "with torch.inference_mode():\n",
        "    y_preds = model_0(X_test)\n",
        "\n",
        "y_preds"
      ],
      "metadata": {
        "colab": {
          "base_uri": "https://localhost:8080/"
        },
        "id": "e-U9P9Yn2kQ-",
        "outputId": "783ba1cb-2f95-4eac-882f-9e9866efe042"
      },
      "execution_count": 29,
      "outputs": [
        {
          "output_type": "execute_result",
          "data": {
            "text/plain": [
              "tensor([[0.8634],\n",
              "        [0.8773],\n",
              "        [0.8913],\n",
              "        [0.9052],\n",
              "        [0.9191],\n",
              "        [0.9330],\n",
              "        [0.9469],\n",
              "        [0.9609],\n",
              "        [0.9748],\n",
              "        [0.9887]])"
            ]
          },
          "metadata": {},
          "execution_count": 29
        }
      ]
    },
    {
      "cell_type": "code",
      "source": [
        "y_preds == loaded_model_preds"
      ],
      "metadata": {
        "colab": {
          "base_uri": "https://localhost:8080/"
        },
        "id": "3H_bSIZX20ce",
        "outputId": "6165832d-e184-481b-e043-25bac4808ba1"
      },
      "execution_count": 30,
      "outputs": [
        {
          "output_type": "execute_result",
          "data": {
            "text/plain": [
              "tensor([[True],\n",
              "        [True],\n",
              "        [True],\n",
              "        [True],\n",
              "        [True],\n",
              "        [True],\n",
              "        [True],\n",
              "        [True],\n",
              "        [True],\n",
              "        [True]])"
            ]
          },
          "metadata": {},
          "execution_count": 30
        }
      ]
    },
    {
      "cell_type": "markdown",
      "source": [
        "### Putting it all together"
      ],
      "metadata": {
        "id": "_NQNFOhchIMk"
      }
    },
    {
      "cell_type": "code",
      "source": [
        "import torch\n",
        "from torch import nn\n",
        "import matplotlib.pyplot as plt\n",
        "\n",
        "# check torch version\n",
        "torch.__version__"
      ],
      "metadata": {
        "colab": {
          "base_uri": "https://localhost:8080/",
          "height": 35
        },
        "id": "T7uZ3KtwhF6L",
        "outputId": "c3ebd28b-0e23-4828-ec8a-ea2bddad79ce"
      },
      "execution_count": 31,
      "outputs": [
        {
          "output_type": "execute_result",
          "data": {
            "text/plain": [
              "'1.13.1+cu116'"
            ],
            "application/vnd.google.colaboratory.intrinsic+json": {
              "type": "string"
            }
          },
          "metadata": {},
          "execution_count": 31
        }
      ]
    },
    {
      "cell_type": "code",
      "source": [
        "# Create device agnostic code\n",
        "device = 'cuda' if torch.cuda.is_available() else 'cpu'\n",
        "print(f'Using device: {device}')"
      ],
      "metadata": {
        "colab": {
          "base_uri": "https://localhost:8080/"
        },
        "id": "aEsKdEMq25dm",
        "outputId": "9f21f838-637d-4ce8-d051-4110bac2a34c"
      },
      "execution_count": 32,
      "outputs": [
        {
          "output_type": "stream",
          "name": "stdout",
          "text": [
            "Using device: cpu\n"
          ]
        }
      ]
    },
    {
      "cell_type": "code",
      "source": [
        "# create some data using the linear regression formula y = mx+c\n",
        "weight = 0.7\n",
        "bias = 0.3\n",
        "\n",
        "\n",
        "# Create range of values\n",
        "start = 0\n",
        "end = 1\n",
        "step = 0.02\n",
        "\n",
        "# Create X and y\n",
        "X = torch.arange(start, end, step).unsqueeze(dim=1)\n",
        "y = weight * X + bias\n",
        "X[:10], y[:10]"
      ],
      "metadata": {
        "colab": {
          "base_uri": "https://localhost:8080/"
        },
        "id": "3moli-NSh1RN",
        "outputId": "1cd1c67e-d8ed-47a0-dc84-91186c6b5087"
      },
      "execution_count": 33,
      "outputs": [
        {
          "output_type": "execute_result",
          "data": {
            "text/plain": [
              "(tensor([[0.0000],\n",
              "         [0.0200],\n",
              "         [0.0400],\n",
              "         [0.0600],\n",
              "         [0.0800],\n",
              "         [0.1000],\n",
              "         [0.1200],\n",
              "         [0.1400],\n",
              "         [0.1600],\n",
              "         [0.1800]]), tensor([[0.3000],\n",
              "         [0.3140],\n",
              "         [0.3280],\n",
              "         [0.3420],\n",
              "         [0.3560],\n",
              "         [0.3700],\n",
              "         [0.3840],\n",
              "         [0.3980],\n",
              "         [0.4120],\n",
              "         [0.4260]]))"
            ]
          },
          "metadata": {},
          "execution_count": 33
        }
      ]
    },
    {
      "cell_type": "code",
      "source": [
        "# Split the data\n",
        "train_split = int(0.8 * len(X))\n",
        "X_train, y_train = X[:train_split], y[:train_split]\n",
        "X_test, y_test - X[train_split], y[train_split:]\n",
        "len(X_train), len(y_train), len(X_test), len(y_test)"
      ],
      "metadata": {
        "colab": {
          "base_uri": "https://localhost:8080/"
        },
        "id": "KFhNvCY6jpUy",
        "outputId": "63b1b2a7-3a2d-4472-c471-01e6e692c286"
      },
      "execution_count": 34,
      "outputs": [
        {
          "output_type": "execute_result",
          "data": {
            "text/plain": [
              "(40, 40, 10, 10)"
            ]
          },
          "metadata": {},
          "execution_count": 34
        }
      ]
    },
    {
      "cell_type": "code",
      "source": [
        "plot_predictions(X_train, y_train,X_test, y_test)"
      ],
      "metadata": {
        "colab": {
          "base_uri": "https://localhost:8080/",
          "height": 428
        },
        "id": "wyyBPnazkOnK",
        "outputId": "fe76e80c-4de3-4b5b-b822-74a7ccbf1724"
      },
      "execution_count": 35,
      "outputs": [
        {
          "output_type": "display_data",
          "data": {
            "text/plain": [
              "<Figure size 720x504 with 1 Axes>"
            ],
            "image/png": "[encoded data removed]"
          },
          "metadata": {
            "needs_background": "light"
          }
        }
      ]
    },
    {
      "cell_type": "code",
      "source": [
        "class LinearRegressionModelV2(nn.Module):\n",
        "    def __init__(self):\n",
        "        super().__init__()\n",
        "        # use nn.Linear()\n",
        "        self.Linear_layer = nn.Linear(in_features=1,\n",
        "                                      out_features=1)\n",
        "        \n",
        "    def forward(self, x: torch.Tensor) -> torch.Tensor:\n",
        "        return self.Linear_layer(x)\n",
        "\n",
        "# set seed\n",
        "# torch.manual_seed(42)\n",
        "model_1 = LinearRegressionModelV2()\n",
        "model_1, model_1.state_dict()"
      ],
      "metadata": {
        "colab": {
          "base_uri": "https://localhost:8080/"
        },
        "id": "UyqNK3SHkbDQ",
        "outputId": "0789f9ba-3f26-43da-bf30-6b9c2627748b"
      },
      "execution_count": 36,
      "outputs": [
        {
          "output_type": "execute_result",
          "data": {
            "text/plain": [
              "(LinearRegressionModelV2(\n",
              "   (Linear_layer): Linear(in_features=1, out_features=1, bias=True)\n",
              " ),\n",
              " OrderedDict([('Linear_layer.weight', tensor([[-0.4869]])),\n",
              "              ('Linear_layer.bias', tensor([0.5873]))]))"
            ]
          },
          "metadata": {},
          "execution_count": 36
        }
      ]
    },
    {
      "cell_type": "code",
      "source": [
        "# Set the model to use target device\n",
        "model_1.to(device)\n",
        "next(model_1.parameters()).device"
      ],
      "metadata": {
        "colab": {
          "base_uri": "https://localhost:8080/"
        },
        "id": "fgTt8P4wmpOi",
        "outputId": "75652ef7-f608-4c7b-d0e3-1cd2e65e8f7d"
      },
      "execution_count": 37,
      "outputs": [
        {
          "output_type": "execute_result",
          "data": {
            "text/plain": [
              "device(type='cpu')"
            ]
          },
          "metadata": {},
          "execution_count": 37
        }
      ]
    },
    {
      "cell_type": "markdown",
      "source": [
        "### Training"
      ],
      "metadata": {
        "id": "2MeFyE-yp-JQ"
      }
    },
    {
      "cell_type": "code",
      "source": [
        "loss_fn = nn.L1Loss()\n",
        "\n",
        "optimizer = torch.optim.SGD(params = model_1.parameters(),\n",
        "                            lr=0.01)\n",
        "\n",
        "epochs = 500\n",
        "\n",
        "for epoch in range(epochs):\n",
        "    model_1.train()\n",
        "\n",
        "    # 1. forward pass\n",
        "    y_pred = model_1(X_train)\n",
        "\n",
        "    # 2. Calculate the loss\n",
        "    loss = loss_fn(y_pred, y_train)\n",
        "\n",
        "    # 3. optimizer zero grad\n",
        "    optimizer.zero_grad()\n",
        "\n",
        "    # 4. perform backpropagation\n",
        "    loss.backward()\n",
        "\n",
        "    # 5. optimizer step\n",
        "    optimizer.step()\n",
        "\n",
        "    ### Testing\n",
        "    model_1.eval()\n",
        "    with torch.inference_mode():\n",
        "        test_pred = model_1(X_test)\n",
        "\n",
        "        test_loss = loss_fn(test_pred, y_test)\n",
        "\n",
        "    # Print out what is happening\n",
        "    if epoch % 10 == 0:\n",
        "        print(f'Epoch: {epoch} | Loss: {loss} | Test loss: {test_loss}')"
      ],
      "metadata": {
        "colab": {
          "base_uri": "https://localhost:8080/"
        },
        "id": "YSaJqftWpb6a",
        "outputId": "85a9e5c6-0e48-4744-8d4d-71c6a90aae17"
      },
      "execution_count": 38,
      "outputs": [
        {
          "output_type": "stream",
          "name": "stdout",
          "text": [
            "Epoch: 0 | Loss: 0.26974982023239136 | Test loss: 0.7627415657043457\n",
            "Epoch: 10 | Loss: 0.24980036914348602 | Test loss: 0.7036675810813904\n",
            "Epoch: 20 | Loss: 0.2355562150478363 | Test loss: 0.6545786261558533\n",
            "Epoch: 30 | Loss: 0.22535471618175507 | Test loss: 0.6137607097625732\n",
            "Epoch: 40 | Loss: 0.21770060062408447 | Test loss: 0.5800625681877136\n",
            "Epoch: 50 | Loss: 0.2115832269191742 | Test loss: 0.5516103506088257\n",
            "Epoch: 60 | Loss: 0.206537127494812 | Test loss: 0.5271192193031311\n",
            "Epoch: 70 | Loss: 0.20225700736045837 | Test loss: 0.5079809427261353\n",
            "Epoch: 80 | Loss: 0.19825701415538788 | Test loss: 0.4901808798313141\n",
            "Epoch: 90 | Loss: 0.194367453455925 | Test loss: 0.4744149148464203\n",
            "Epoch: 100 | Loss: 0.19087742269039154 | Test loss: 0.4633951187133789\n",
            "Epoch: 110 | Loss: 0.18738742172718048 | Test loss: 0.4523754119873047\n",
            "Epoch: 120 | Loss: 0.18389739096164703 | Test loss: 0.4413556456565857\n",
            "Epoch: 130 | Loss: 0.18040740489959717 | Test loss: 0.4303358495235443\n",
            "Epoch: 140 | Loss: 0.17691738903522491 | Test loss: 0.4193161129951477\n",
            "Epoch: 150 | Loss: 0.17342737317085266 | Test loss: 0.40829628705978394\n",
            "Epoch: 160 | Loss: 0.1699373573064804 | Test loss: 0.39727655053138733\n",
            "Epoch: 170 | Loss: 0.1664857566356659 | Test loss: 0.38831737637519836\n",
            "Epoch: 180 | Loss: 0.16305173933506012 | Test loss: 0.3807319104671478\n",
            "Epoch: 190 | Loss: 0.15962092578411102 | Test loss: 0.37245965003967285\n",
            "Epoch: 200 | Loss: 0.15618214011192322 | Test loss: 0.3641872704029083\n",
            "Epoch: 210 | Loss: 0.15274979174137115 | Test loss: 0.35660186409950256\n",
            "Epoch: 220 | Loss: 0.14931732416152954 | Test loss: 0.3483295142650604\n",
            "Epoch: 230 | Loss: 0.14587852358818054 | Test loss: 0.34005722403526306\n",
            "Epoch: 240 | Loss: 0.1424478441476822 | Test loss: 0.3324717879295349\n",
            "Epoch: 250 | Loss: 0.13901372253894806 | Test loss: 0.3241994380950928\n",
            "Epoch: 260 | Loss: 0.13557490706443787 | Test loss: 0.3159271478652954\n",
            "Epoch: 270 | Loss: 0.13214588165283203 | Test loss: 0.3083416819572449\n",
            "Epoch: 280 | Loss: 0.12871012091636658 | Test loss: 0.3000693917274475\n",
            "Epoch: 290 | Loss: 0.12527236342430115 | Test loss: 0.292483925819397\n",
            "Epoch: 300 | Loss: 0.12184393405914307 | Test loss: 0.2842116355895996\n",
            "Epoch: 310 | Loss: 0.11840648949146271 | Test loss: 0.27593931555747986\n",
            "Epoch: 320 | Loss: 0.11497042328119278 | Test loss: 0.2683538794517517\n",
            "Epoch: 330 | Loss: 0.11154168844223022 | Test loss: 0.26008158922195435\n",
            "Epoch: 340 | Loss: 0.10810288041830063 | Test loss: 0.2518092691898346\n",
            "Epoch: 350 | Loss: 0.10466846078634262 | Test loss: 0.24422380328178406\n",
            "Epoch: 360 | Loss: 0.10123807191848755 | Test loss: 0.2359514683485031\n",
            "Epoch: 370 | Loss: 0.09779927134513855 | Test loss: 0.22767920792102814\n",
            "Epoch: 380 | Loss: 0.09436652809381485 | Test loss: 0.22009365260601044\n",
            "Epoch: 390 | Loss: 0.09093447774648666 | Test loss: 0.21182116866111755\n",
            "Epoch: 400 | Loss: 0.08749566972255707 | Test loss: 0.2035486400127411\n",
            "Epoch: 410 | Loss: 0.08406460285186768 | Test loss: 0.19596295058727264\n",
            "Epoch: 420 | Loss: 0.08063087612390518 | Test loss: 0.18769043684005737\n",
            "Epoch: 430 | Loss: 0.07719205319881439 | Test loss: 0.1794179230928421\n",
            "Epoch: 440 | Loss: 0.0737626850605011 | Test loss: 0.17183221876621246\n",
            "Epoch: 450 | Loss: 0.07032724469900131 | Test loss: 0.1635597050189972\n",
            "Epoch: 460 | Loss: 0.06688918173313141 | Test loss: 0.15597400069236755\n",
            "Epoch: 470 | Loss: 0.06346075236797333 | Test loss: 0.14770150184631348\n",
            "Epoch: 480 | Loss: 0.06002363562583923 | Test loss: 0.13942894339561462\n",
            "Epoch: 490 | Loss: 0.056587256491184235 | Test loss: 0.13184328377246857\n"
          ]
        }
      ]
    },
    {
      "cell_type": "markdown",
      "source": [
        "### Making and evaluating predictions"
      ],
      "metadata": {
        "id": "40la8rlStcbB"
      }
    },
    {
      "cell_type": "code",
      "source": [
        "# Turn model in evaluation mode\n",
        "model_1.eval()\n",
        "\n",
        "# Make predictions on the test data\n",
        "with torch.inference_mode():\n",
        "    y_preds = model_1(X_test)\n",
        "\n",
        "y_preds"
      ],
      "metadata": {
        "colab": {
          "base_uri": "https://localhost:8080/"
        },
        "id": "So-O3Nw5tazC",
        "outputId": "caa04e96-d85b-4196-e2c9-34855a33fed1"
      },
      "execution_count": 39,
      "outputs": [
        {
          "output_type": "execute_result",
          "data": {
            "text/plain": [
              "tensor([[0.7595],\n",
              "        [0.7682],\n",
              "        [0.7769],\n",
              "        [0.7856],\n",
              "        [0.7943],\n",
              "        [0.8030],\n",
              "        [0.8117],\n",
              "        [0.8204],\n",
              "        [0.8292],\n",
              "        [0.8379]])"
            ]
          },
          "metadata": {},
          "execution_count": 39
        }
      ]
    },
    {
      "cell_type": "code",
      "source": [
        "# Check out model predictions\n",
        "plot_predictions(predictions=y_preds)"
      ],
      "metadata": {
        "colab": {
          "base_uri": "https://localhost:8080/",
          "height": 428
        },
        "id": "Z3XS9wL6t2BK",
        "outputId": "d02d288f-e8bc-4fad-d3db-3df06c6456f1"
      },
      "execution_count": 40,
      "outputs": [
        {
          "output_type": "display_data",
          "data": {
            "text/plain": [
              "<Figure size 720x504 with 1 Axes>"
            ],
            "image/png": "[encoded data removed]"
          },
          "metadata": {
            "needs_background": "light"
          }
        }
      ]
    },
    {
      "cell_type": "code",
      "source": [
        "from pathlib import Path\n",
        "\n",
        "MODEL_PATH = Path('models')\n",
        "MODEL_PATH.mkdir(parents=True, exist_ok=True)\n",
        "\n",
        "MODEL_NAME = '01_pytorch_workflow_model_1.pth'\n",
        "MODEL_SAVE_PATH = MODEL_PATH/MODEL_NAME\n",
        "\n",
        "print(f'Saving model to: {MODEL_SAVE_PATH}')\n",
        "torch.save(obj=model_1.state_dict(),\n",
        "           f=MODEL_SAVE_PATH)"
      ],
      "metadata": {
        "colab": {
          "base_uri": "https://localhost:8080/"
        },
        "id": "vXL85-BRuHNL",
        "outputId": "4eaa7034-3593-4838-a5d2-049f3cbe202e"
      },
      "execution_count": 42,
      "outputs": [
        {
          "output_type": "stream",
          "name": "stdout",
          "text": [
            "Saving model to: models/01_pytorch_workflow_model_1.pth\n"
          ]
        }
      ]
    },
    {
      "cell_type": "code",
      "source": [
        "#Load model\n",
        "loaded_model_1 = LinearRegressionModelV2()\n",
        "loaded_model_1.load_state_dict(torch.load(MODEL_SAVE_PATH))\n",
        "loaded_model_1.to(device)"
      ],
      "metadata": {
        "colab": {
          "base_uri": "https://localhost:8080/"
        },
        "id": "UHE7SDFy2JWN",
        "outputId": "ee0f1a35-ca9b-494b-a639-bb58affb9973"
      },
      "execution_count": 45,
      "outputs": [
        {
          "output_type": "execute_result",
          "data": {
            "text/plain": [
              "LinearRegressionModelV2(\n",
              "  (Linear_layer): Linear(in_features=1, out_features=1, bias=True)\n",
              ")"
            ]
          },
          "metadata": {},
          "execution_count": 45
        }
      ]
    },
    {
      "cell_type": "code",
      "source": [
        "next(loaded_model_1.parameters()).device"
      ],
      "metadata": {
        "colab": {
          "base_uri": "https://localhost:8080/"
        },
        "id": "bXjsO1Y_3ZcR",
        "outputId": "35dd849c-a994-49d7-cf90-644f76319936"
      },
      "execution_count": 46,
      "outputs": [
        {
          "output_type": "execute_result",
          "data": {
            "text/plain": [
              "device(type='cpu')"
            ]
          },
          "metadata": {},
          "execution_count": 46
        }
      ]
    },
    {
      "cell_type": "code",
      "source": [
        "loaded_model_1.state_dict()"
      ],
      "metadata": {
        "colab": {
          "base_uri": "https://localhost:8080/"
        },
        "id": "zdDt3CVI3_GB",
        "outputId": "5810298e-ce51-421b-a283-1443b4d5f747"
      },
      "execution_count": 47,
      "outputs": [
        {
          "output_type": "execute_result",
          "data": {
            "text/plain": [
              "OrderedDict([('Linear_layer.weight', tensor([[0.4356]])),\n",
              "             ('Linear_layer.bias', tensor([0.4110]))])"
            ]
          },
          "metadata": {},
          "execution_count": 47
        }
      ]
    },
    {
      "cell_type": "code",
      "source": [
        "loaded_model_1.eval()\n",
        "with torch.inference_mode():\n",
        "    loaded_model_1_preds = loaded_model_1(X_test)\n",
        "y_preds == loaded_model_1_preds"
      ],
      "metadata": {
        "colab": {
          "base_uri": "https://localhost:8080/"
        },
        "id": "hpqXVImw4pgi",
        "outputId": "fc17fb6a-0ecb-4a3d-9de7-dab44cdba704"
      },
      "execution_count": 48,
      "outputs": [
        {
          "output_type": "execute_result",
          "data": {
            "text/plain": [
              "tensor([[True],\n",
              "        [True],\n",
              "        [True],\n",
              "        [True],\n",
              "        [True],\n",
              "        [True],\n",
              "        [True],\n",
              "        [True],\n",
              "        [True],\n",
              "        [True]])"
            ]
          },
          "metadata": {},
          "execution_count": 48
        }
      ]
    },
    {
      "cell_type": "code",
      "source": [],
      "metadata": {
        "id": "gYZO9D4h5An6"
      },
      "execution_count": null,
      "outputs": []
    }
  ]
}